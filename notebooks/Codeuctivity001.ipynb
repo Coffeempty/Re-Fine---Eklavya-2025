{
  "nbformat": 4,
  "nbformat_minor": 0,
  "metadata": {
    "colab": {
      "provenance": [],
      "gpuType": "T4"
    },
    "kernelspec": {
      "name": "python3",
      "display_name": "Python 3"
    },
    "language_info": {
      "name": "python"
    },
    "accelerator": "GPU"
  },
  "cells": [
    {
      "cell_type": "code",
      "execution_count": null,
      "metadata": {
        "id": "FM5cq_D1xlPL"
      },
      "outputs": [],
      "source": [
        "from datasets import load_dataset\n",
        "from transformers import AutoTokenizer, AutoModelForSeq2SeqLM, TrainingArguments, Trainer, DataCollatorForSeq2Seq\n",
        "from peft import LoraConfig, get_peft_model, TaskType\n",
        "import torch\n",
        "import numpy as np"
      ]
    },
    {
      "cell_type": "code",
      "source": [
        "MODEL_NAME = \"Salesforce/codet5-base\"\n",
        "OUTPUT_DIR = \"outputs/codet5-lora\"\n",
        "MAX_INPUT = 128\n",
        "MAX_OUTPUT = 64\n",
        "EPOCHS = 1     #inc later\n",
        "BATCH = 4\n",
        "LR = 5e-4"
      ],
      "metadata": {
        "id": "oexryEUYx01A"
      },
      "execution_count": null,
      "outputs": []
    },
    {
      "cell_type": "code",
      "source": [
        "dataset = load_dataset(\"code_x_glue_ct_code_to_text\", \"python\")\n",
        "print(dataset)"
      ],
      "metadata": {
        "id": "syi38C14yBrh"
      },
      "execution_count": null,
      "outputs": []
    },
    {
      "cell_type": "code",
      "source": [
        "tokenizer = AutoTokenizer.from_pretrained(MODEL_NAME)\n",
        "\n",
        "def preprocess(batch):\n",
        "    inputs = [f\"summarize: {code}\" for code in batch[\"code\"]]\n",
        "    model_inputs = tokenizer(inputs, max_length=MAX_INPUT, truncation=True, padding=\"max_length\")\n",
        "    labels = tokenizer(batch[\"docstring\"], max_length=MAX_OUTPUT, truncation=True, padding=\"max_length\")\n",
        "    model_inputs[\"labels\"] = labels[\"input_ids\"]\n",
        "    return model_inputs\n",
        "\n",
        "tokenized = dataset.map(preprocess, batched=True)"
      ],
      "metadata": {
        "id": "vgLwl1oNyEOv"
      },
      "execution_count": null,
      "outputs": []
    },
    {
      "cell_type": "code",
      "source": [
        "model = AutoModelForSeq2SeqLM.from_pretrained(MODEL_NAME)"
      ],
      "metadata": {
        "id": "MwyenFUeyLQk"
      },
      "execution_count": null,
      "outputs": []
    },
    {
      "cell_type": "code",
      "source": [
        "lora_config = LoraConfig(\n",
        "    task_type=TaskType.SEQ_2_SEQ_LM,\n",
        "    r=16,\n",
        "    lora_alpha=32,     # scaling\n",
        "    lora_dropout=0.1,\n",
        ")\n",
        "\n",
        "model = get_peft_model(model, lora_config)\n",
        "model.print_trainable_parameters()"
      ],
      "metadata": {
        "id": "jDLcBCWSzz13"
      },
      "execution_count": null,
      "outputs": []
    },
    {
      "cell_type": "code",
      "source": [
        "args = TrainingArguments(\n",
        "    output_dir=OUTPUT_DIR,\n",
        "    per_device_train_batch_size=BATCH,\n",
        "    per_device_eval_batch_size=BATCH,\n",
        "    learning_rate=LR,\n",
        "    num_train_epochs=EPOCHS,\n",
        "    logging_dir=\"./logs\",\n",
        "    logging_steps=50,\n",
        "    eval_strategy=\"epoch\",\n",
        "    save_strategy=\"epoch\",\n",
        "    fp16=torch.cuda.is_available(),\n",
        ")"
      ],
      "metadata": {
        "id": "8QSCOU7Fz_k_"
      },
      "execution_count": null,
      "outputs": []
    },
    {
      "cell_type": "code",
      "source": [
        "collator = DataCollatorForSeq2Seq(tokenizer, model=model)\n",
        "\n",
        "trainer = Trainer(\n",
        "    model=model,\n",
        "    args=args,\n",
        "    train_dataset=tokenized[\"train\"].select(range(40000)),\n",
        "    eval_dataset=tokenized[\"validation\"].select(range(1000)),\n",
        "    tokenizer=tokenizer,\n",
        "    data_collator=collator,\n",
        ")\n",
        "\n",
        "trainer.train()"
      ],
      "metadata": {
        "id": "0Ncf1R2-0CEo"
      },
      "execution_count": null,
      "outputs": []
    },
    {
      "cell_type": "code",
      "source": [
        "tokenizer.save_pretrained(OUTPUT_DIR)\n",
        "\n",
        "print(\"Training done. Model + LoRA adapter saved in:\", OUTPUT_DIR)"
      ],
      "metadata": {
        "id": "2BQt50Ks1IOO"
      },
      "execution_count": null,
      "outputs": []
    },
    {
      "cell_type": "code",
      "source": [
        "def summarize(code):\n",
        "    inputs = tokenizer(f\"summarize: {code}\", return_tensors=\"pt\", truncation=True).to(model.device)\n",
        "    output = model.generate(**inputs, max_length=MAX_OUTPUT)\n",
        "    return tokenizer.decode(output[0], skip_special_tokens=True)\n",
        "\n",
        "print(\"\\n Test prediction:\")\n",
        "print(summarize(\"def factorial(n): return 1 if n==0 else n*factorial(n-1)\"))"
      ],
      "metadata": {
        "id": "1UM5TgXv1Pni"
      },
      "execution_count": null,
      "outputs": []
    }
  ]
}
